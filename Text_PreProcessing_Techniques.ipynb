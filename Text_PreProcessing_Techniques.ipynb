{
 "cells": [
  {
   "cell_type": "code",
   "execution_count": 1,
   "id": "998742fb",
   "metadata": {},
   "outputs": [],
   "source": [
    "import numpy as np\n",
    "import pandas as pd\n",
    "import matplotlib.pyplot as plt\n",
    "import plotly.express as px"
   ]
  },
  {
   "cell_type": "code",
   "execution_count": 2,
   "id": "1b780b1d",
   "metadata": {},
   "outputs": [],
   "source": [
    "df = pd.read_csv('IMDB Dataset.csv')"
   ]
  },
  {
   "cell_type": "code",
   "execution_count": 3,
   "id": "ff6877fb",
   "metadata": {},
   "outputs": [
    {
     "data": {
      "text/html": [
       "<div>\n",
       "<style scoped>\n",
       "    .dataframe tbody tr th:only-of-type {\n",
       "        vertical-align: middle;\n",
       "    }\n",
       "\n",
       "    .dataframe tbody tr th {\n",
       "        vertical-align: top;\n",
       "    }\n",
       "\n",
       "    .dataframe thead th {\n",
       "        text-align: right;\n",
       "    }\n",
       "</style>\n",
       "<table border=\"1\" class=\"dataframe\">\n",
       "  <thead>\n",
       "    <tr style=\"text-align: right;\">\n",
       "      <th></th>\n",
       "      <th>review</th>\n",
       "      <th>sentiment</th>\n",
       "    </tr>\n",
       "  </thead>\n",
       "  <tbody>\n",
       "    <tr>\n",
       "      <th>0</th>\n",
       "      <td>One of the other reviewers has mentioned that ...</td>\n",
       "      <td>positive</td>\n",
       "    </tr>\n",
       "    <tr>\n",
       "      <th>1</th>\n",
       "      <td>A wonderful little production. &lt;br /&gt;&lt;br /&gt;The...</td>\n",
       "      <td>positive</td>\n",
       "    </tr>\n",
       "    <tr>\n",
       "      <th>2</th>\n",
       "      <td>I thought this was a wonderful way to spend ti...</td>\n",
       "      <td>positive</td>\n",
       "    </tr>\n",
       "    <tr>\n",
       "      <th>3</th>\n",
       "      <td>Basically there's a family where a little boy ...</td>\n",
       "      <td>negative</td>\n",
       "    </tr>\n",
       "    <tr>\n",
       "      <th>4</th>\n",
       "      <td>Petter Mattei's \"Love in the Time of Money\" is...</td>\n",
       "      <td>positive</td>\n",
       "    </tr>\n",
       "    <tr>\n",
       "      <th>...</th>\n",
       "      <td>...</td>\n",
       "      <td>...</td>\n",
       "    </tr>\n",
       "    <tr>\n",
       "      <th>49995</th>\n",
       "      <td>I thought this movie did a down right good job...</td>\n",
       "      <td>positive</td>\n",
       "    </tr>\n",
       "    <tr>\n",
       "      <th>49996</th>\n",
       "      <td>Bad plot, bad dialogue, bad acting, idiotic di...</td>\n",
       "      <td>negative</td>\n",
       "    </tr>\n",
       "    <tr>\n",
       "      <th>49997</th>\n",
       "      <td>I am a Catholic taught in parochial elementary...</td>\n",
       "      <td>negative</td>\n",
       "    </tr>\n",
       "    <tr>\n",
       "      <th>49998</th>\n",
       "      <td>I'm going to have to disagree with the previou...</td>\n",
       "      <td>negative</td>\n",
       "    </tr>\n",
       "    <tr>\n",
       "      <th>49999</th>\n",
       "      <td>No one expects the Star Trek movies to be high...</td>\n",
       "      <td>negative</td>\n",
       "    </tr>\n",
       "  </tbody>\n",
       "</table>\n",
       "<p>50000 rows × 2 columns</p>\n",
       "</div>"
      ],
      "text/plain": [
       "                                                  review sentiment\n",
       "0      One of the other reviewers has mentioned that ...  positive\n",
       "1      A wonderful little production. <br /><br />The...  positive\n",
       "2      I thought this was a wonderful way to spend ti...  positive\n",
       "3      Basically there's a family where a little boy ...  negative\n",
       "4      Petter Mattei's \"Love in the Time of Money\" is...  positive\n",
       "...                                                  ...       ...\n",
       "49995  I thought this movie did a down right good job...  positive\n",
       "49996  Bad plot, bad dialogue, bad acting, idiotic di...  negative\n",
       "49997  I am a Catholic taught in parochial elementary...  negative\n",
       "49998  I'm going to have to disagree with the previou...  negative\n",
       "49999  No one expects the Star Trek movies to be high...  negative\n",
       "\n",
       "[50000 rows x 2 columns]"
      ]
     },
     "execution_count": 3,
     "metadata": {},
     "output_type": "execute_result"
    }
   ],
   "source": [
    "df"
   ]
  },
  {
   "cell_type": "code",
   "execution_count": 4,
   "id": "d1cd4f4c",
   "metadata": {},
   "outputs": [
    {
     "data": {
      "text/plain": [
       "(50000, 2)"
      ]
     },
     "execution_count": 4,
     "metadata": {},
     "output_type": "execute_result"
    }
   ],
   "source": [
    "df.shape"
   ]
  },
  {
   "cell_type": "code",
   "execution_count": 5,
   "id": "70f743e1",
   "metadata": {},
   "outputs": [
    {
     "data": {
      "text/plain": [
       "100000"
      ]
     },
     "execution_count": 5,
     "metadata": {},
     "output_type": "execute_result"
    }
   ],
   "source": [
    "df.size"
   ]
  },
  {
   "cell_type": "code",
   "execution_count": 6,
   "id": "10f6ed82",
   "metadata": {},
   "outputs": [
    {
     "data": {
      "text/plain": [
       "Index(['review', 'sentiment'], dtype='object')"
      ]
     },
     "execution_count": 6,
     "metadata": {},
     "output_type": "execute_result"
    }
   ],
   "source": [
    "df.columns"
   ]
  },
  {
   "cell_type": "code",
   "execution_count": 7,
   "id": "de66da1d",
   "metadata": {},
   "outputs": [
    {
     "data": {
      "text/plain": [
       "positive    25000\n",
       "negative    25000\n",
       "Name: sentiment, dtype: int64"
      ]
     },
     "execution_count": 7,
     "metadata": {},
     "output_type": "execute_result"
    }
   ],
   "source": [
    "df['sentiment'].value_counts()"
   ]
  },
  {
   "cell_type": "code",
   "execution_count": 8,
   "id": "eb1c0435",
   "metadata": {},
   "outputs": [
    {
     "data": {
      "text/plain": [
       "\"One of the other reviewers has mentioned that after watching just 1 Oz episode you'll be hooked. They are right, as this is exactly what happened with me.<br /><br />The first thing that struck me about Oz was its brutality and unflinching scenes of violence, which set in right from the word GO. Trust me, this is not a show for the faint hearted or timid. This show pulls no punches with regards to drugs, sex or violence. Its is hardcore, in the classic use of the word.<br /><br />It is called OZ as that is the nickname given to the Oswald Maximum Security State Penitentary. It focuses mainly on Emerald City, an experimental section of the prison where all the cells have glass fronts and face inwards, so privacy is not high on the agenda. Em City is home to many..Aryans, Muslims, gangstas, Latinos, Christians, Italians, Irish and more....so scuffles, death stares, dodgy dealings and shady agreements are never far away.<br /><br />I would say the main appeal of the show is due to the fact that it goes where other shows wouldn't dare. Forget pretty pictures painted for mainstream audiences, forget charm, forget romance...OZ doesn't mess around. The first episode I ever saw struck me as so nasty it was surreal, I couldn't say I was ready for it, but as I watched more, I developed a taste for Oz, and got accustomed to the high levels of graphic violence. Not just violence, but injustice (crooked guards who'll be sold out for a nickel, inmates who'll kill on order and get away with it, well mannered, middle class inmates being turned into prison bitches due to their lack of street skills or prison experience) Watching Oz, you may become comfortable with what is uncomfortable viewing....thats if you can get in touch with your darker side.\""
      ]
     },
     "execution_count": 8,
     "metadata": {},
     "output_type": "execute_result"
    }
   ],
   "source": [
    "df['review'][0]"
   ]
  },
  {
   "cell_type": "code",
   "execution_count": 9,
   "id": "4616c3e7",
   "metadata": {},
   "outputs": [
    {
     "data": {
      "text/plain": [
       "str"
      ]
     },
     "execution_count": 9,
     "metadata": {},
     "output_type": "execute_result"
    }
   ],
   "source": [
    "type(df['review'][0])"
   ]
  },
  {
   "cell_type": "code",
   "execution_count": 10,
   "id": "f154623b",
   "metadata": {},
   "outputs": [
    {
     "data": {
      "text/plain": [
       "1761"
      ]
     },
     "execution_count": 10,
     "metadata": {},
     "output_type": "execute_result"
    }
   ],
   "source": [
    "len(df['review'][0])"
   ]
  },
  {
   "cell_type": "code",
   "execution_count": null,
   "id": "367e5166",
   "metadata": {},
   "outputs": [],
   "source": []
  },
  {
   "cell_type": "markdown",
   "id": "5aa2a854",
   "metadata": {},
   "source": [
    "### Let's now LOWERCASE all the texts for Model Understanding Perspective ###"
   ]
  },
  {
   "cell_type": "code",
   "execution_count": 11,
   "id": "a60739f9",
   "metadata": {},
   "outputs": [
    {
     "data": {
      "text/plain": [
       "0        one of the other reviewers has mentioned that ...\n",
       "1        a wonderful little production. <br /><br />the...\n",
       "2        i thought this was a wonderful way to spend ti...\n",
       "3        basically there's a family where a little boy ...\n",
       "4        petter mattei's \"love in the time of money\" is...\n",
       "                               ...                        \n",
       "49995    i thought this movie did a down right good job...\n",
       "49996    bad plot, bad dialogue, bad acting, idiotic di...\n",
       "49997    i am a catholic taught in parochial elementary...\n",
       "49998    i'm going to have to disagree with the previou...\n",
       "49999    no one expects the star trek movies to be high...\n",
       "Name: review, Length: 50000, dtype: object"
      ]
     },
     "execution_count": 11,
     "metadata": {},
     "output_type": "execute_result"
    }
   ],
   "source": [
    "df['review'].str.lower()"
   ]
  },
  {
   "cell_type": "code",
   "execution_count": 12,
   "id": "39141835",
   "metadata": {},
   "outputs": [
    {
     "data": {
      "text/plain": [
       "pandas.core.series.Series"
      ]
     },
     "execution_count": 12,
     "metadata": {},
     "output_type": "execute_result"
    }
   ],
   "source": [
    "type(df['review'].str.lower())"
   ]
  },
  {
   "cell_type": "code",
   "execution_count": 13,
   "id": "ee0e77b5",
   "metadata": {},
   "outputs": [],
   "source": [
    "df['lowerCase'] = df['review'].str.lower()"
   ]
  },
  {
   "cell_type": "code",
   "execution_count": 14,
   "id": "2dac8558",
   "metadata": {},
   "outputs": [
    {
     "data": {
      "text/html": [
       "<div>\n",
       "<style scoped>\n",
       "    .dataframe tbody tr th:only-of-type {\n",
       "        vertical-align: middle;\n",
       "    }\n",
       "\n",
       "    .dataframe tbody tr th {\n",
       "        vertical-align: top;\n",
       "    }\n",
       "\n",
       "    .dataframe thead th {\n",
       "        text-align: right;\n",
       "    }\n",
       "</style>\n",
       "<table border=\"1\" class=\"dataframe\">\n",
       "  <thead>\n",
       "    <tr style=\"text-align: right;\">\n",
       "      <th></th>\n",
       "      <th>review</th>\n",
       "      <th>sentiment</th>\n",
       "      <th>lowerCase</th>\n",
       "    </tr>\n",
       "  </thead>\n",
       "  <tbody>\n",
       "    <tr>\n",
       "      <th>0</th>\n",
       "      <td>One of the other reviewers has mentioned that ...</td>\n",
       "      <td>positive</td>\n",
       "      <td>one of the other reviewers has mentioned that ...</td>\n",
       "    </tr>\n",
       "    <tr>\n",
       "      <th>1</th>\n",
       "      <td>A wonderful little production. &lt;br /&gt;&lt;br /&gt;The...</td>\n",
       "      <td>positive</td>\n",
       "      <td>a wonderful little production. &lt;br /&gt;&lt;br /&gt;the...</td>\n",
       "    </tr>\n",
       "    <tr>\n",
       "      <th>2</th>\n",
       "      <td>I thought this was a wonderful way to spend ti...</td>\n",
       "      <td>positive</td>\n",
       "      <td>i thought this was a wonderful way to spend ti...</td>\n",
       "    </tr>\n",
       "    <tr>\n",
       "      <th>3</th>\n",
       "      <td>Basically there's a family where a little boy ...</td>\n",
       "      <td>negative</td>\n",
       "      <td>basically there's a family where a little boy ...</td>\n",
       "    </tr>\n",
       "    <tr>\n",
       "      <th>4</th>\n",
       "      <td>Petter Mattei's \"Love in the Time of Money\" is...</td>\n",
       "      <td>positive</td>\n",
       "      <td>petter mattei's \"love in the time of money\" is...</td>\n",
       "    </tr>\n",
       "    <tr>\n",
       "      <th>...</th>\n",
       "      <td>...</td>\n",
       "      <td>...</td>\n",
       "      <td>...</td>\n",
       "    </tr>\n",
       "    <tr>\n",
       "      <th>49995</th>\n",
       "      <td>I thought this movie did a down right good job...</td>\n",
       "      <td>positive</td>\n",
       "      <td>i thought this movie did a down right good job...</td>\n",
       "    </tr>\n",
       "    <tr>\n",
       "      <th>49996</th>\n",
       "      <td>Bad plot, bad dialogue, bad acting, idiotic di...</td>\n",
       "      <td>negative</td>\n",
       "      <td>bad plot, bad dialogue, bad acting, idiotic di...</td>\n",
       "    </tr>\n",
       "    <tr>\n",
       "      <th>49997</th>\n",
       "      <td>I am a Catholic taught in parochial elementary...</td>\n",
       "      <td>negative</td>\n",
       "      <td>i am a catholic taught in parochial elementary...</td>\n",
       "    </tr>\n",
       "    <tr>\n",
       "      <th>49998</th>\n",
       "      <td>I'm going to have to disagree with the previou...</td>\n",
       "      <td>negative</td>\n",
       "      <td>i'm going to have to disagree with the previou...</td>\n",
       "    </tr>\n",
       "    <tr>\n",
       "      <th>49999</th>\n",
       "      <td>No one expects the Star Trek movies to be high...</td>\n",
       "      <td>negative</td>\n",
       "      <td>no one expects the star trek movies to be high...</td>\n",
       "    </tr>\n",
       "  </tbody>\n",
       "</table>\n",
       "<p>50000 rows × 3 columns</p>\n",
       "</div>"
      ],
      "text/plain": [
       "                                                  review sentiment  \\\n",
       "0      One of the other reviewers has mentioned that ...  positive   \n",
       "1      A wonderful little production. <br /><br />The...  positive   \n",
       "2      I thought this was a wonderful way to spend ti...  positive   \n",
       "3      Basically there's a family where a little boy ...  negative   \n",
       "4      Petter Mattei's \"Love in the Time of Money\" is...  positive   \n",
       "...                                                  ...       ...   \n",
       "49995  I thought this movie did a down right good job...  positive   \n",
       "49996  Bad plot, bad dialogue, bad acting, idiotic di...  negative   \n",
       "49997  I am a Catholic taught in parochial elementary...  negative   \n",
       "49998  I'm going to have to disagree with the previou...  negative   \n",
       "49999  No one expects the Star Trek movies to be high...  negative   \n",
       "\n",
       "                                               lowerCase  \n",
       "0      one of the other reviewers has mentioned that ...  \n",
       "1      a wonderful little production. <br /><br />the...  \n",
       "2      i thought this was a wonderful way to spend ti...  \n",
       "3      basically there's a family where a little boy ...  \n",
       "4      petter mattei's \"love in the time of money\" is...  \n",
       "...                                                  ...  \n",
       "49995  i thought this movie did a down right good job...  \n",
       "49996  bad plot, bad dialogue, bad acting, idiotic di...  \n",
       "49997  i am a catholic taught in parochial elementary...  \n",
       "49998  i'm going to have to disagree with the previou...  \n",
       "49999  no one expects the star trek movies to be high...  \n",
       "\n",
       "[50000 rows x 3 columns]"
      ]
     },
     "execution_count": 14,
     "metadata": {},
     "output_type": "execute_result"
    }
   ],
   "source": [
    "df"
   ]
  },
  {
   "cell_type": "code",
   "execution_count": null,
   "id": "6e03f2f2",
   "metadata": {},
   "outputs": [],
   "source": []
  },
  {
   "cell_type": "markdown",
   "id": "0ff88d33",
   "metadata": {},
   "source": [
    "### Let's now remove some unnecessary letters/words like HTML tags."
   ]
  },
  {
   "cell_type": "code",
   "execution_count": 15,
   "id": "a1857339",
   "metadata": {},
   "outputs": [],
   "source": [
    "import re"
   ]
  },
  {
   "cell_type": "code",
   "execution_count": 16,
   "id": "33eb8adb",
   "metadata": {},
   "outputs": [],
   "source": [
    "pattern = \"<.*?>\""
   ]
  },
  {
   "cell_type": "code",
   "execution_count": 17,
   "id": "8505bb67",
   "metadata": {},
   "outputs": [
    {
     "data": {
      "text/plain": [
       "\"one of the other reviewers has mentioned that after watching just 1 oz episode you'll be hooked. they are right, as this is exactly what happened with me.<br /><br />the first thing that struck me about oz was its brutality and unflinching scenes of violence, which set in right from the word go. trust me, this is not a show for the faint hearted or timid. this show pulls no punches with regards to drugs, sex or violence. its is hardcore, in the classic use of the word.<br /><br />it is called oz as that is the nickname given to the oswald maximum security state penitentary. it focuses mainly on emerald city, an experimental section of the prison where all the cells have glass fronts and face inwards, so privacy is not high on the agenda. em city is home to many..aryans, muslims, gangstas, latinos, christians, italians, irish and more....so scuffles, death stares, dodgy dealings and shady agreements are never far away.<br /><br />i would say the main appeal of the show is due to the fact that it goes where other shows wouldn't dare. forget pretty pictures painted for mainstream audiences, forget charm, forget romance...oz doesn't mess around. the first episode i ever saw struck me as so nasty it was surreal, i couldn't say i was ready for it, but as i watched more, i developed a taste for oz, and got accustomed to the high levels of graphic violence. not just violence, but injustice (crooked guards who'll be sold out for a nickel, inmates who'll kill on order and get away with it, well mannered, middle class inmates being turned into prison bitches due to their lack of street skills or prison experience) watching oz, you may become comfortable with what is uncomfortable viewing....thats if you can get in touch with your darker side.\""
      ]
     },
     "execution_count": 17,
     "metadata": {},
     "output_type": "execute_result"
    }
   ],
   "source": [
    "df['lowerCase'][0]"
   ]
  },
  {
   "cell_type": "code",
   "execution_count": 18,
   "id": "6384bf87",
   "metadata": {},
   "outputs": [],
   "source": [
    "# re.match(pattern=pattern,string=df['lowerCase'][0])"
   ]
  },
  {
   "cell_type": "code",
   "execution_count": 19,
   "id": "18576073",
   "metadata": {},
   "outputs": [],
   "source": [
    "# re.findall(pattern,df['lowerCase'][0])"
   ]
  },
  {
   "cell_type": "code",
   "execution_count": 20,
   "id": "d690f936",
   "metadata": {},
   "outputs": [],
   "source": [
    "# html_tags = re.findall(pattern,df['lowerCase'][0])"
   ]
  },
  {
   "cell_type": "code",
   "execution_count": 21,
   "id": "b4a33716",
   "metadata": {},
   "outputs": [],
   "source": [
    "# sample_string = df['lowerCase'][0]"
   ]
  },
  {
   "cell_type": "code",
   "execution_count": 22,
   "id": "3177ddb1",
   "metadata": {},
   "outputs": [],
   "source": [
    "# c = \"\""
   ]
  },
  {
   "cell_type": "code",
   "execution_count": 23,
   "id": "8957fade",
   "metadata": {},
   "outputs": [],
   "source": [
    "# for i in html_tags:\n",
    "#     if i in sample_string:\n",
    "#         print(sample_string.index(i))\n",
    "#         c = sample_string.replace(i,\"\")"
   ]
  },
  {
   "cell_type": "code",
   "execution_count": null,
   "id": "20fdf3dc",
   "metadata": {},
   "outputs": [],
   "source": []
  },
  {
   "cell_type": "code",
   "execution_count": 24,
   "id": "459cac57",
   "metadata": {},
   "outputs": [],
   "source": [
    "def htmlTagRemover(text):\n",
    "    pattern = re.compile('<.*?>')\n",
    "    return pattern.sub('',text)"
   ]
  },
  {
   "cell_type": "code",
   "execution_count": 25,
   "id": "cac59162",
   "metadata": {},
   "outputs": [],
   "source": [
    "reviews = df['lowerCase'].values\n",
    "htmlTagProcessed = []\n",
    "for i in reviews:\n",
    "    htmlTagProcessed.append(htmlTagRemover(i))"
   ]
  },
  {
   "cell_type": "code",
   "execution_count": null,
   "id": "1dc8f276",
   "metadata": {},
   "outputs": [],
   "source": []
  },
  {
   "cell_type": "code",
   "execution_count": 26,
   "id": "a5ae05ec",
   "metadata": {},
   "outputs": [],
   "source": [
    "### Adding the new column in the DataFrame ###"
   ]
  },
  {
   "cell_type": "code",
   "execution_count": 27,
   "id": "8baa74e7",
   "metadata": {},
   "outputs": [],
   "source": [
    "df['htmlTagProcessed'] = htmlTagProcessed\n",
    "df.rename(columns={'lowerCase':'lowerCaseProcessed'}, inplace=True)"
   ]
  },
  {
   "cell_type": "code",
   "execution_count": 28,
   "id": "16692317",
   "metadata": {},
   "outputs": [
    {
     "data": {
      "text/html": [
       "<div>\n",
       "<style scoped>\n",
       "    .dataframe tbody tr th:only-of-type {\n",
       "        vertical-align: middle;\n",
       "    }\n",
       "\n",
       "    .dataframe tbody tr th {\n",
       "        vertical-align: top;\n",
       "    }\n",
       "\n",
       "    .dataframe thead th {\n",
       "        text-align: right;\n",
       "    }\n",
       "</style>\n",
       "<table border=\"1\" class=\"dataframe\">\n",
       "  <thead>\n",
       "    <tr style=\"text-align: right;\">\n",
       "      <th></th>\n",
       "      <th>review</th>\n",
       "      <th>sentiment</th>\n",
       "      <th>lowerCaseProcessed</th>\n",
       "      <th>htmlTagProcessed</th>\n",
       "    </tr>\n",
       "  </thead>\n",
       "  <tbody>\n",
       "    <tr>\n",
       "      <th>0</th>\n",
       "      <td>One of the other reviewers has mentioned that ...</td>\n",
       "      <td>positive</td>\n",
       "      <td>one of the other reviewers has mentioned that ...</td>\n",
       "      <td>one of the other reviewers has mentioned that ...</td>\n",
       "    </tr>\n",
       "    <tr>\n",
       "      <th>1</th>\n",
       "      <td>A wonderful little production. &lt;br /&gt;&lt;br /&gt;The...</td>\n",
       "      <td>positive</td>\n",
       "      <td>a wonderful little production. &lt;br /&gt;&lt;br /&gt;the...</td>\n",
       "      <td>a wonderful little production. the filming tec...</td>\n",
       "    </tr>\n",
       "    <tr>\n",
       "      <th>2</th>\n",
       "      <td>I thought this was a wonderful way to spend ti...</td>\n",
       "      <td>positive</td>\n",
       "      <td>i thought this was a wonderful way to spend ti...</td>\n",
       "      <td>i thought this was a wonderful way to spend ti...</td>\n",
       "    </tr>\n",
       "    <tr>\n",
       "      <th>3</th>\n",
       "      <td>Basically there's a family where a little boy ...</td>\n",
       "      <td>negative</td>\n",
       "      <td>basically there's a family where a little boy ...</td>\n",
       "      <td>basically there's a family where a little boy ...</td>\n",
       "    </tr>\n",
       "    <tr>\n",
       "      <th>4</th>\n",
       "      <td>Petter Mattei's \"Love in the Time of Money\" is...</td>\n",
       "      <td>positive</td>\n",
       "      <td>petter mattei's \"love in the time of money\" is...</td>\n",
       "      <td>petter mattei's \"love in the time of money\" is...</td>\n",
       "    </tr>\n",
       "    <tr>\n",
       "      <th>...</th>\n",
       "      <td>...</td>\n",
       "      <td>...</td>\n",
       "      <td>...</td>\n",
       "      <td>...</td>\n",
       "    </tr>\n",
       "    <tr>\n",
       "      <th>49995</th>\n",
       "      <td>I thought this movie did a down right good job...</td>\n",
       "      <td>positive</td>\n",
       "      <td>i thought this movie did a down right good job...</td>\n",
       "      <td>i thought this movie did a down right good job...</td>\n",
       "    </tr>\n",
       "    <tr>\n",
       "      <th>49996</th>\n",
       "      <td>Bad plot, bad dialogue, bad acting, idiotic di...</td>\n",
       "      <td>negative</td>\n",
       "      <td>bad plot, bad dialogue, bad acting, idiotic di...</td>\n",
       "      <td>bad plot, bad dialogue, bad acting, idiotic di...</td>\n",
       "    </tr>\n",
       "    <tr>\n",
       "      <th>49997</th>\n",
       "      <td>I am a Catholic taught in parochial elementary...</td>\n",
       "      <td>negative</td>\n",
       "      <td>i am a catholic taught in parochial elementary...</td>\n",
       "      <td>i am a catholic taught in parochial elementary...</td>\n",
       "    </tr>\n",
       "    <tr>\n",
       "      <th>49998</th>\n",
       "      <td>I'm going to have to disagree with the previou...</td>\n",
       "      <td>negative</td>\n",
       "      <td>i'm going to have to disagree with the previou...</td>\n",
       "      <td>i'm going to have to disagree with the previou...</td>\n",
       "    </tr>\n",
       "    <tr>\n",
       "      <th>49999</th>\n",
       "      <td>No one expects the Star Trek movies to be high...</td>\n",
       "      <td>negative</td>\n",
       "      <td>no one expects the star trek movies to be high...</td>\n",
       "      <td>no one expects the star trek movies to be high...</td>\n",
       "    </tr>\n",
       "  </tbody>\n",
       "</table>\n",
       "<p>50000 rows × 4 columns</p>\n",
       "</div>"
      ],
      "text/plain": [
       "                                                  review sentiment  \\\n",
       "0      One of the other reviewers has mentioned that ...  positive   \n",
       "1      A wonderful little production. <br /><br />The...  positive   \n",
       "2      I thought this was a wonderful way to spend ti...  positive   \n",
       "3      Basically there's a family where a little boy ...  negative   \n",
       "4      Petter Mattei's \"Love in the Time of Money\" is...  positive   \n",
       "...                                                  ...       ...   \n",
       "49995  I thought this movie did a down right good job...  positive   \n",
       "49996  Bad plot, bad dialogue, bad acting, idiotic di...  negative   \n",
       "49997  I am a Catholic taught in parochial elementary...  negative   \n",
       "49998  I'm going to have to disagree with the previou...  negative   \n",
       "49999  No one expects the Star Trek movies to be high...  negative   \n",
       "\n",
       "                                      lowerCaseProcessed  \\\n",
       "0      one of the other reviewers has mentioned that ...   \n",
       "1      a wonderful little production. <br /><br />the...   \n",
       "2      i thought this was a wonderful way to spend ti...   \n",
       "3      basically there's a family where a little boy ...   \n",
       "4      petter mattei's \"love in the time of money\" is...   \n",
       "...                                                  ...   \n",
       "49995  i thought this movie did a down right good job...   \n",
       "49996  bad plot, bad dialogue, bad acting, idiotic di...   \n",
       "49997  i am a catholic taught in parochial elementary...   \n",
       "49998  i'm going to have to disagree with the previou...   \n",
       "49999  no one expects the star trek movies to be high...   \n",
       "\n",
       "                                        htmlTagProcessed  \n",
       "0      one of the other reviewers has mentioned that ...  \n",
       "1      a wonderful little production. the filming tec...  \n",
       "2      i thought this was a wonderful way to spend ti...  \n",
       "3      basically there's a family where a little boy ...  \n",
       "4      petter mattei's \"love in the time of money\" is...  \n",
       "...                                                  ...  \n",
       "49995  i thought this movie did a down right good job...  \n",
       "49996  bad plot, bad dialogue, bad acting, idiotic di...  \n",
       "49997  i am a catholic taught in parochial elementary...  \n",
       "49998  i'm going to have to disagree with the previou...  \n",
       "49999  no one expects the star trek movies to be high...  \n",
       "\n",
       "[50000 rows x 4 columns]"
      ]
     },
     "execution_count": 28,
     "metadata": {},
     "output_type": "execute_result"
    }
   ],
   "source": [
    "df"
   ]
  },
  {
   "cell_type": "code",
   "execution_count": null,
   "id": "48c41219",
   "metadata": {},
   "outputs": [],
   "source": []
  },
  {
   "cell_type": "code",
   "execution_count": 29,
   "id": "56c77f61",
   "metadata": {},
   "outputs": [
    {
     "data": {
      "text/plain": [
       "'i thought this was a wonderful way to spend time on a too hot summer weekend, sitting in the air conditioned theater and watching a light-hearted comedy. the plot is simplistic, but the dialogue is witty and the characters are likable (even the well bread suspected serial killer). while some may be disappointed when they realize this is not match point 2: risk addiction, i thought it was proof that woody allen is still fully in control of the style many of us have grown to love.this was the most i\\'d laughed at one of woody\\'s comedies in years (dare i say a decade?). while i\\'ve never been impressed with scarlet johanson, in this she managed to tone down her \"sexy\" image and jumped right into a average, but spirited young woman.this may not be the crown jewel of his career, but it was wittier than \"devil wears prada\" and more interesting than \"superman\" a great comedy to go see with friends.'"
      ]
     },
     "execution_count": 29,
     "metadata": {},
     "output_type": "execute_result"
    }
   ],
   "source": [
    "df['htmlTagProcessed'][2]"
   ]
  },
  {
   "cell_type": "code",
   "execution_count": null,
   "id": "0a92e25c",
   "metadata": {},
   "outputs": [],
   "source": []
  },
  {
   "cell_type": "markdown",
   "id": "b677626c",
   "metadata": {},
   "source": [
    "### Let's see some examples of removing URLs"
   ]
  },
  {
   "cell_type": "code",
   "execution_count": 30,
   "id": "9b0d644c",
   "metadata": {},
   "outputs": [],
   "source": [
    "given_text = 'Github portal of Aditya Das: https://github.com/dasaditya1999'"
   ]
  },
  {
   "cell_type": "code",
   "execution_count": 31,
   "id": "440cd312",
   "metadata": {},
   "outputs": [],
   "source": [
    "pattern = re.compile('https.*')"
   ]
  },
  {
   "cell_type": "code",
   "execution_count": 32,
   "id": "51730dc1",
   "metadata": {},
   "outputs": [],
   "source": [
    "processed_text = pattern.sub(r'',given_text)"
   ]
  },
  {
   "cell_type": "code",
   "execution_count": 33,
   "id": "1e167122",
   "metadata": {},
   "outputs": [
    {
     "data": {
      "text/plain": [
       "'Github portal of Aditya Das: '"
      ]
     },
     "execution_count": 33,
     "metadata": {},
     "output_type": "execute_result"
    }
   ],
   "source": [
    "processed_text"
   ]
  },
  {
   "cell_type": "code",
   "execution_count": null,
   "id": "4593f4e2",
   "metadata": {},
   "outputs": [],
   "source": []
  },
  {
   "cell_type": "markdown",
   "id": "1f09f08a",
   "metadata": {},
   "source": [
    "### Let's now focus on removing punctuation Marks"
   ]
  },
  {
   "cell_type": "code",
   "execution_count": 34,
   "id": "8dd40b9f",
   "metadata": {},
   "outputs": [],
   "source": [
    "import string, time"
   ]
  },
  {
   "cell_type": "code",
   "execution_count": 35,
   "id": "cd5a6cb3",
   "metadata": {},
   "outputs": [
    {
     "data": {
      "text/plain": [
       "'abcdefghijklmnopqrstuvwxyzABCDEFGHIJKLMNOPQRSTUVWXYZ'"
      ]
     },
     "execution_count": 35,
     "metadata": {},
     "output_type": "execute_result"
    }
   ],
   "source": [
    "string.ascii_letters"
   ]
  },
  {
   "cell_type": "code",
   "execution_count": 36,
   "id": "07ba6216",
   "metadata": {},
   "outputs": [
    {
     "data": {
      "text/plain": [
       "'abcdefghijklmnopqrstuvwxyz'"
      ]
     },
     "execution_count": 36,
     "metadata": {},
     "output_type": "execute_result"
    }
   ],
   "source": [
    "string.ascii_lowercase"
   ]
  },
  {
   "cell_type": "code",
   "execution_count": 37,
   "id": "ee145f80",
   "metadata": {},
   "outputs": [
    {
     "data": {
      "text/plain": [
       "'ABCDEFGHIJKLMNOPQRSTUVWXYZ'"
      ]
     },
     "execution_count": 37,
     "metadata": {},
     "output_type": "execute_result"
    }
   ],
   "source": [
    "string.ascii_uppercase"
   ]
  },
  {
   "cell_type": "code",
   "execution_count": 38,
   "id": "ebb8bc7a",
   "metadata": {},
   "outputs": [
    {
     "data": {
      "text/plain": [
       "'Abcde'"
      ]
     },
     "execution_count": 38,
     "metadata": {},
     "output_type": "execute_result"
    }
   ],
   "source": [
    "string.capwords(\"ABCDE\")"
   ]
  },
  {
   "cell_type": "code",
   "execution_count": 39,
   "id": "93ec848a",
   "metadata": {},
   "outputs": [
    {
     "data": {
      "text/plain": [
       "'!\"#$%&\\'()*+,-./:;<=>?@[\\\\]^_`{|}~'"
      ]
     },
     "execution_count": 39,
     "metadata": {},
     "output_type": "execute_result"
    }
   ],
   "source": [
    "string.punctuation"
   ]
  },
  {
   "cell_type": "code",
   "execution_count": 40,
   "id": "ae7b4175",
   "metadata": {},
   "outputs": [],
   "source": [
    "def removePunctuation(text):\n",
    "    punc = string.punctuation\n",
    "    punc = punc.replace(punc[22],'')\n",
    "    punc = '['+punc+']'\n",
    "    pattern = re.compile(punc)\n",
    "    return pattern.sub('',text)"
   ]
  },
  {
   "cell_type": "code",
   "execution_count": 41,
   "id": "2eb601d4",
   "metadata": {},
   "outputs": [
    {
     "name": "stdout",
     "output_type": "stream",
     "text": [
      "Total time taken to process the 50k data points:  0.510706901550293\n"
     ]
    }
   ],
   "source": [
    "import time\n",
    "start = time.time()\n",
    "\n",
    "puncRemovedTexts = []\n",
    "texts = df['htmlTagProcessed'].values\n",
    "for i in texts:\n",
    "    puncRemovedTexts.append(removePunctuation(i))\n",
    "    \n",
    "end = time.time()\n",
    "print('Total time taken to process the 50k data points: ',end-start)"
   ]
  },
  {
   "cell_type": "code",
   "execution_count": 42,
   "id": "e944052b",
   "metadata": {},
   "outputs": [],
   "source": [
    "# puncRemovedTexts[0]"
   ]
  },
  {
   "cell_type": "code",
   "execution_count": 43,
   "id": "d46e4999",
   "metadata": {},
   "outputs": [],
   "source": [
    "# df['htmlTagProcessed'][0]"
   ]
  },
  {
   "cell_type": "code",
   "execution_count": 44,
   "id": "641d1ad8",
   "metadata": {},
   "outputs": [],
   "source": [
    "df['removedPunctuation'] = puncRemovedTexts"
   ]
  },
  {
   "cell_type": "code",
   "execution_count": 45,
   "id": "b57becb4",
   "metadata": {},
   "outputs": [],
   "source": [
    "df2 = df[['removedPunctuation','sentiment']]"
   ]
  },
  {
   "cell_type": "code",
   "execution_count": 46,
   "id": "394a1a35",
   "metadata": {},
   "outputs": [],
   "source": [
    "# df2"
   ]
  },
  {
   "cell_type": "code",
   "execution_count": 47,
   "id": "503c8e68",
   "metadata": {},
   "outputs": [],
   "source": [
    "# df"
   ]
  },
  {
   "cell_type": "code",
   "execution_count": 48,
   "id": "dab22c39",
   "metadata": {},
   "outputs": [],
   "source": [
    "# df2['removedPunctuation'][0]"
   ]
  },
  {
   "cell_type": "code",
   "execution_count": 49,
   "id": "c27d11a5",
   "metadata": {},
   "outputs": [],
   "source": [
    "import string"
   ]
  },
  {
   "cell_type": "code",
   "execution_count": 50,
   "id": "4d1a9534",
   "metadata": {},
   "outputs": [],
   "source": [
    "exclude = string.punctuation\n",
    "exclude = exclude.replace(exclude[21],'')\n",
    "\n",
    "def removePunctuationOptimized(text):\n",
    "    return text.translate(str.maketrans('','',exclude))"
   ]
  },
  {
   "cell_type": "code",
   "execution_count": 52,
   "id": "3d88d50d",
   "metadata": {},
   "outputs": [],
   "source": [
    "# processedText = []\n",
    "# inputTexts = df['htmlTagProcessed'].values\n",
    "# for i in inputTexts:\n",
    "#     processedText.append(removePunctuationOptimized(inputTexts))"
   ]
  },
  {
   "cell_type": "code",
   "execution_count": null,
   "id": "8c866595",
   "metadata": {},
   "outputs": [],
   "source": []
  },
  {
   "cell_type": "markdown",
   "id": "18e5339f",
   "metadata": {},
   "source": [
    "### Chat Word Treatment ###"
   ]
  },
  {
   "cell_type": "markdown",
   "id": "d2a89500",
   "metadata": {},
   "source": [
    "In real life scenario the texts are mess. Those are sometimes are not understandable to a normal person & so\n",
    "to the model. Hence, we have to convert those special words with the normal wordings/with it's full fledged \n",
    "meaning."
   ]
  },
  {
   "cell_type": "code",
   "execution_count": 53,
   "id": "428a6d64",
   "metadata": {},
   "outputs": [],
   "source": [
    "slang_full_form_pair = dict()\n",
    "\n",
    "file = open('sms_slang_translator.txt','r')\n",
    "data = file.readlines()\n",
    "for i in data:\n",
    "    try:\n",
    "        arr = i.split('=')\n",
    "        key = arr[0]\n",
    "        value = arr[1].replace('\\n','')\n",
    "    except IndexError:\n",
    "        continue\n",
    "    slang_full_form_pair[key] = value"
   ]
  },
  {
   "cell_type": "code",
   "execution_count": 54,
   "id": "34d77f1a",
   "metadata": {},
   "outputs": [
    {
     "data": {
      "text/plain": [
       "{'AFAIK': 'As Far As I Know',\n",
       " 'AFK': 'Away From Keyboard',\n",
       " 'ASAP': 'As Soon As Possible',\n",
       " 'ATK': 'At The Keyboard',\n",
       " 'ATM': 'At The Moment',\n",
       " 'A3': 'Anytime, Anywhere, Anyplace',\n",
       " 'BAK': 'Back At Keyboard',\n",
       " 'BBL': 'Be Back Later',\n",
       " 'BBS': 'Be Back Soon',\n",
       " 'BFN': 'Bye For Now',\n",
       " 'B4N': 'Bye For Now',\n",
       " 'BRB': 'Be Right Back',\n",
       " 'BRT': 'Be Right There',\n",
       " 'BTW': 'By The Way',\n",
       " 'B4': 'Before',\n",
       " 'CU': 'See You',\n",
       " 'CUL8R': 'See You Later',\n",
       " 'CYA': 'See You',\n",
       " 'FAQ': 'Frequently Asked Questions',\n",
       " 'FC': 'Fingers Crossed',\n",
       " 'FWIW': \"For What It's Worth\",\n",
       " 'FYI': 'For Your Information',\n",
       " 'GAL': 'Get A Life',\n",
       " 'GG': 'Good Game',\n",
       " 'GN': 'Good Night',\n",
       " 'GMTA': 'Great Minds Think Alike',\n",
       " 'GR8': 'Great!',\n",
       " 'G9': 'Genius',\n",
       " 'IC': 'I See',\n",
       " 'ICQ': 'I Seek you (also a chat program)',\n",
       " 'ILU': 'ILU: I Love You',\n",
       " 'IMHO': 'In My Honest/Humble Opinion',\n",
       " 'IMO': 'In My Opinion',\n",
       " 'IOW': 'In Other Words',\n",
       " 'IRL': 'In Real Life',\n",
       " 'KISS': 'Keep It Simple, Stupid',\n",
       " 'LDR': 'Long Distance Relationship',\n",
       " 'LMAO': 'Laugh My A.. Off',\n",
       " 'LOL': 'Laughing Out Loud',\n",
       " 'LTNS': 'Long Time No See',\n",
       " 'L8R': 'Later',\n",
       " 'MTE': 'My Thoughts Exactly',\n",
       " 'M8': 'Mate',\n",
       " 'NRN': 'No Reply Necessary',\n",
       " 'OIC': 'Oh I See',\n",
       " 'PITA': 'Pain In The A..',\n",
       " 'PRT': 'Party',\n",
       " 'PRW': 'Parents Are Watching',\n",
       " 'ROFL': 'Rolling On The Floor Laughing',\n",
       " 'ROFLOL': 'Rolling On The Floor Laughing Out Loud',\n",
       " 'ROTFLMAO': 'Rolling On The Floor Laughing My A.. Off',\n",
       " 'SK8': 'Skate',\n",
       " 'STATS': 'Your sex and age',\n",
       " 'ASL': 'Age, Sex, Location',\n",
       " 'THX': 'Thank You',\n",
       " 'TTFN': 'Ta-Ta For Now!',\n",
       " 'TTYL': 'Talk To You Later',\n",
       " 'U': 'You',\n",
       " 'U2': 'You Too',\n",
       " 'U4E': 'Yours For Ever',\n",
       " 'WB': 'Welcome Back',\n",
       " 'WTF': 'What The F...',\n",
       " 'WTG': 'Way To Go!',\n",
       " 'WUF': 'Where Are You From?',\n",
       " 'W8': 'Wait...',\n",
       " '7K': 'Sick:-D Laugher'}"
      ]
     },
     "execution_count": 54,
     "metadata": {},
     "output_type": "execute_result"
    }
   ],
   "source": [
    "slang_full_form_pair"
   ]
  },
  {
   "cell_type": "code",
   "execution_count": 55,
   "id": "1357c2c4",
   "metadata": {},
   "outputs": [],
   "source": [
    "inputDataForChatWordProcessing = df2['removedPunctuation'].values"
   ]
  },
  {
   "cell_type": "code",
   "execution_count": 91,
   "id": "12b0bfd6",
   "metadata": {},
   "outputs": [
    {
     "name": "stdout",
     "output_type": "stream",
     "text": [
      "IMHO In My Honest/Humble Opinion\n"
     ]
    },
    {
     "name": "stderr",
     "output_type": "stream",
     "text": [
      "/var/folders/03/17q0xl853nxgk_46r8x0vbkr0000gn/T/ipykernel_6940/1573712531.py:7: SettingWithCopyWarning: \n",
      "A value is trying to be set on a copy of a slice from a DataFrame\n",
      "\n",
      "See the caveats in the documentation: https://pandas.pydata.org/pandas-docs/stable/user_guide/indexing.html#returning-a-view-versus-a-copy\n",
      "  df2['removedPunctuation'][i] = target.replace(j,slang_full_form_pair[j])\n"
     ]
    },
    {
     "name": "stdout",
     "output_type": "stream",
     "text": [
      "3.1396448612213135\n"
     ]
    }
   ],
   "source": [
    "start = time.time()\n",
    "for i in range(0,len(inputDataForChatWordProcessing)):\n",
    "    for j in slang_full_form_pair.keys():\n",
    "        if j in inputDataForChatWordProcessing[i]:\n",
    "            print(j, slang_full_form_pair[j])\n",
    "            target = df2['removedPunctuation'][i]\n",
    "            df2['removedPunctuation'][i] = target.replace(j,slang_full_form_pair[j])\n",
    "            \n",
    "end = time.time()\n",
    "print(end-start)"
   ]
  },
  {
   "cell_type": "code",
   "execution_count": 92,
   "id": "05f09946",
   "metadata": {},
   "outputs": [],
   "source": [
    "# df2['removedPunctuation'][0] = df2['removedPunctuation'][0].replace('one','IMHO')"
   ]
  },
  {
   "cell_type": "code",
   "execution_count": 93,
   "id": "935ca646",
   "metadata": {},
   "outputs": [
    {
     "data": {
      "text/html": [
       "<div>\n",
       "<style scoped>\n",
       "    .dataframe tbody tr th:only-of-type {\n",
       "        vertical-align: middle;\n",
       "    }\n",
       "\n",
       "    .dataframe tbody tr th {\n",
       "        vertical-align: top;\n",
       "    }\n",
       "\n",
       "    .dataframe thead th {\n",
       "        text-align: right;\n",
       "    }\n",
       "</style>\n",
       "<table border=\"1\" class=\"dataframe\">\n",
       "  <thead>\n",
       "    <tr style=\"text-align: right;\">\n",
       "      <th></th>\n",
       "      <th>removedPunctuation</th>\n",
       "      <th>sentiment</th>\n",
       "    </tr>\n",
       "  </thead>\n",
       "  <tbody>\n",
       "    <tr>\n",
       "      <th>0</th>\n",
       "      <td>In My Honest/Humble Opinion of the other revie...</td>\n",
       "      <td>positive</td>\n",
       "    </tr>\n",
       "    <tr>\n",
       "      <th>1</th>\n",
       "      <td>a wonderful little production the filming tech...</td>\n",
       "      <td>positive</td>\n",
       "    </tr>\n",
       "    <tr>\n",
       "      <th>2</th>\n",
       "      <td>i thought this was a wonderful way to spend ti...</td>\n",
       "      <td>positive</td>\n",
       "    </tr>\n",
       "    <tr>\n",
       "      <th>3</th>\n",
       "      <td>basically theres a family where a little boy j...</td>\n",
       "      <td>negative</td>\n",
       "    </tr>\n",
       "    <tr>\n",
       "      <th>4</th>\n",
       "      <td>petter matteis love in the time of money is a ...</td>\n",
       "      <td>positive</td>\n",
       "    </tr>\n",
       "    <tr>\n",
       "      <th>...</th>\n",
       "      <td>...</td>\n",
       "      <td>...</td>\n",
       "    </tr>\n",
       "    <tr>\n",
       "      <th>49995</th>\n",
       "      <td>i thought this movie did a down right good job...</td>\n",
       "      <td>positive</td>\n",
       "    </tr>\n",
       "    <tr>\n",
       "      <th>49996</th>\n",
       "      <td>bad plot bad dialogue bad acting idiotic direc...</td>\n",
       "      <td>negative</td>\n",
       "    </tr>\n",
       "    <tr>\n",
       "      <th>49997</th>\n",
       "      <td>i am a catholic taught in parochial elementary...</td>\n",
       "      <td>negative</td>\n",
       "    </tr>\n",
       "    <tr>\n",
       "      <th>49998</th>\n",
       "      <td>im going to have to disagree with the previous...</td>\n",
       "      <td>negative</td>\n",
       "    </tr>\n",
       "    <tr>\n",
       "      <th>49999</th>\n",
       "      <td>no one expects the star trek movies to be high...</td>\n",
       "      <td>negative</td>\n",
       "    </tr>\n",
       "  </tbody>\n",
       "</table>\n",
       "<p>50000 rows × 2 columns</p>\n",
       "</div>"
      ],
      "text/plain": [
       "                                      removedPunctuation sentiment\n",
       "0      In My Honest/Humble Opinion of the other revie...  positive\n",
       "1      a wonderful little production the filming tech...  positive\n",
       "2      i thought this was a wonderful way to spend ti...  positive\n",
       "3      basically theres a family where a little boy j...  negative\n",
       "4      petter matteis love in the time of money is a ...  positive\n",
       "...                                                  ...       ...\n",
       "49995  i thought this movie did a down right good job...  positive\n",
       "49996  bad plot bad dialogue bad acting idiotic direc...  negative\n",
       "49997  i am a catholic taught in parochial elementary...  negative\n",
       "49998  im going to have to disagree with the previous...  negative\n",
       "49999  no one expects the star trek movies to be high...  negative\n",
       "\n",
       "[50000 rows x 2 columns]"
      ]
     },
     "execution_count": 93,
     "metadata": {},
     "output_type": "execute_result"
    }
   ],
   "source": [
    "df2"
   ]
  },
  {
   "cell_type": "code",
   "execution_count": null,
   "id": "4b3c031e",
   "metadata": {},
   "outputs": [],
   "source": []
  },
  {
   "cell_type": "markdown",
   "id": "b5ff2216",
   "metadata": {},
   "source": [
    "### Let's now Handle the spelling of each word in the text"
   ]
  },
  {
   "cell_type": "code",
   "execution_count": 59,
   "id": "90f3fa8b",
   "metadata": {},
   "outputs": [
    {
     "name": "stdout",
     "output_type": "stream",
     "text": [
      "Collecting textBlob\n",
      "  Downloading textblob-0.17.1-py2.py3-none-any.whl (636 kB)\n",
      "\u001b[2K     \u001b[90m━━━━━━━━━━━━━━━━━━━━━━━━━━━━━━━━━━━━━━━\u001b[0m \u001b[32m636.8/636.8 kB\u001b[0m \u001b[31m3.3 MB/s\u001b[0m eta \u001b[36m0:00:00\u001b[0ma \u001b[36m0:00:01\u001b[0m\n",
      "\u001b[?25hRequirement already satisfied: nltk>=3.1 in /Users/adityanarayandas/anaconda3/lib/python3.11/site-packages (from textBlob) (3.8.1)\n",
      "Requirement already satisfied: click in /Users/adityanarayandas/anaconda3/lib/python3.11/site-packages (from nltk>=3.1->textBlob) (8.0.4)\n",
      "Requirement already satisfied: joblib in /Users/adityanarayandas/anaconda3/lib/python3.11/site-packages (from nltk>=3.1->textBlob) (1.2.0)\n",
      "Requirement already satisfied: regex>=2021.8.3 in /Users/adityanarayandas/anaconda3/lib/python3.11/site-packages (from nltk>=3.1->textBlob) (2022.7.9)\n",
      "Requirement already satisfied: tqdm in /Users/adityanarayandas/anaconda3/lib/python3.11/site-packages (from nltk>=3.1->textBlob) (4.65.0)\n",
      "Installing collected packages: textBlob\n",
      "Successfully installed textBlob-0.17.1\n"
     ]
    }
   ],
   "source": [
    "!pip install textBlob"
   ]
  },
  {
   "cell_type": "code",
   "execution_count": 60,
   "id": "cdfb8147",
   "metadata": {},
   "outputs": [],
   "source": [
    "from textblob import TextBlob"
   ]
  },
  {
   "cell_type": "code",
   "execution_count": 63,
   "id": "ad62f915",
   "metadata": {},
   "outputs": [
    {
     "data": {
      "text/plain": [
       "'Good is one of the essntilo as per the scientist?'"
      ]
     },
     "execution_count": 63,
     "metadata": {},
     "output_type": "execute_result"
    }
   ],
   "source": [
    "incorrectText = 'Food is one of the essntilo as per the scientst?'\n",
    "textBlobObject = TextBlob(text=incorrectText)\n",
    "textBlobObject.correct().string"
   ]
  },
  {
   "cell_type": "code",
   "execution_count": null,
   "id": "cbf01cd3",
   "metadata": {},
   "outputs": [],
   "source": []
  },
  {
   "cell_type": "code",
   "execution_count": null,
   "id": "00602eb6",
   "metadata": {},
   "outputs": [],
   "source": []
  },
  {
   "cell_type": "code",
   "execution_count": 72,
   "id": "4be8ab90",
   "metadata": {},
   "outputs": [],
   "source": [
    "# !pip install nltk"
   ]
  },
  {
   "cell_type": "code",
   "execution_count": 71,
   "id": "05922319",
   "metadata": {},
   "outputs": [],
   "source": [
    "# !pip install autocorrect"
   ]
  },
  {
   "cell_type": "code",
   "execution_count": 67,
   "id": "f162d935",
   "metadata": {},
   "outputs": [],
   "source": [
    "from autocorrect import Speller"
   ]
  },
  {
   "cell_type": "code",
   "execution_count": 73,
   "id": "61e9e84f",
   "metadata": {},
   "outputs": [],
   "source": [
    "obj = Speller(lang='en')"
   ]
  },
  {
   "cell_type": "code",
   "execution_count": 75,
   "id": "e9cbc8ac",
   "metadata": {},
   "outputs": [
    {
     "data": {
      "text/plain": [
       "'Machine Learning'"
      ]
     },
     "execution_count": 75,
     "metadata": {},
     "output_type": "execute_result"
    }
   ],
   "source": [
    "obj('Mahchine Learning')"
   ]
  },
  {
   "cell_type": "code",
   "execution_count": 76,
   "id": "f2905199",
   "metadata": {},
   "outputs": [
    {
     "data": {
      "text/plain": [
       "'convenience'"
      ]
     },
     "execution_count": 76,
     "metadata": {},
     "output_type": "execute_result"
    }
   ],
   "source": [
    "obj('convinience')"
   ]
  },
  {
   "cell_type": "code",
   "execution_count": null,
   "id": "58e81b7e",
   "metadata": {},
   "outputs": [],
   "source": []
  },
  {
   "cell_type": "markdown",
   "id": "aee5b801",
   "metadata": {},
   "source": [
    "### Stop Word Removal from the text"
   ]
  },
  {
   "cell_type": "markdown",
   "id": "74d1ff73",
   "metadata": {},
   "source": [
    "Now after doing LowerCasing, HTML tag removal, url link removal, punctuation removal, chat word handling, and Spell checking, we will apply Stop Word removal Technique to remove the stop words."
   ]
  },
  {
   "cell_type": "markdown",
   "id": "ce913e8e",
   "metadata": {},
   "source": [
    "#### We can do the stop word removal by using the nltk module of python"
   ]
  },
  {
   "cell_type": "code",
   "execution_count": 82,
   "id": "462e5ac0",
   "metadata": {},
   "outputs": [],
   "source": [
    "from nltk.corpus import stopwords"
   ]
  },
  {
   "cell_type": "code",
   "execution_count": 86,
   "id": "55bf3a67",
   "metadata": {},
   "outputs": [
    {
     "name": "stderr",
     "output_type": "stream",
     "text": [
      "[nltk_data] Downloading package stopwords to\n",
      "[nltk_data]     /Users/adityanarayandas/nltk_data...\n",
      "[nltk_data]   Unzipping corpora/stopwords.zip.\n"
     ]
    },
    {
     "data": {
      "text/plain": [
       "True"
      ]
     },
     "execution_count": 86,
     "metadata": {},
     "output_type": "execute_result"
    }
   ],
   "source": [
    "import nltk\n",
    "nltk.download('stopwords')"
   ]
  },
  {
   "cell_type": "code",
   "execution_count": 89,
   "id": "5b1a9e38",
   "metadata": {},
   "outputs": [],
   "source": [
    "stopWords = stopwords.words('english')"
   ]
  },
  {
   "cell_type": "code",
   "execution_count": 96,
   "id": "325036c9",
   "metadata": {},
   "outputs": [],
   "source": [
    "inputText = df2['removedPunctuation'].values"
   ]
  },
  {
   "cell_type": "code",
   "execution_count": 109,
   "id": "680caafd",
   "metadata": {},
   "outputs": [],
   "source": [
    "def removeStopWords(text):\n",
    "    processedWords = []\n",
    "    words = text.split(' ')\n",
    "    for i in words:\n",
    "        if i in stopWords:\n",
    "            i = i.replace(i,'')\n",
    "            processedWords.append(i)\n",
    "        else:\n",
    "            processedWords.append(i)\n",
    "    \n",
    "    return ' '.join(processedWords)\n",
    "            "
   ]
  },
  {
   "cell_type": "code",
   "execution_count": 110,
   "id": "c6b430cd",
   "metadata": {},
   "outputs": [
    {
     "name": "stderr",
     "output_type": "stream",
     "text": [
      "/var/folders/03/17q0xl853nxgk_46r8x0vbkr0000gn/T/ipykernel_6940/1088039620.py:5: SettingWithCopyWarning: \n",
      "A value is trying to be set on a copy of a slice from a DataFrame.\n",
      "Try using .loc[row_indexer,col_indexer] = value instead\n",
      "\n",
      "See the caveats in the documentation: https://pandas.pydata.org/pandas-docs/stable/user_guide/indexing.html#returning-a-view-versus-a-copy\n",
      "  df2['StopWordRemovedText'] = processedText\n"
     ]
    }
   ],
   "source": [
    "processedText = []\n",
    "for i in inputText:\n",
    "    processedText.append(removeStopWords(i))\n",
    "\n",
    "df2['StopWordRemovedText'] = processedText"
   ]
  },
  {
   "cell_type": "code",
   "execution_count": 112,
   "id": "6f8cc733",
   "metadata": {},
   "outputs": [
    {
     "data": {
      "text/plain": [
       "1713"
      ]
     },
     "execution_count": 112,
     "metadata": {},
     "output_type": "execute_result"
    }
   ],
   "source": [
    "len(df2['removedPunctuation'][0])"
   ]
  },
  {
   "cell_type": "code",
   "execution_count": 114,
   "id": "34a8f635",
   "metadata": {},
   "outputs": [
    {
     "data": {
      "text/plain": [
       "1340"
      ]
     },
     "execution_count": 114,
     "metadata": {},
     "output_type": "execute_result"
    }
   ],
   "source": [
    "len(df2['StopWordRemovedText'][0])"
   ]
  },
  {
   "cell_type": "code",
   "execution_count": null,
   "id": "d026838d",
   "metadata": {},
   "outputs": [],
   "source": []
  },
  {
   "cell_type": "markdown",
   "id": "71edcab2",
   "metadata": {},
   "source": [
    "### Now the most important part comes of TextPreProcessing i.e. Tokenisation."
   ]
  },
  {
   "cell_type": "markdown",
   "id": "e2ca2568",
   "metadata": {},
   "source": [
    "Tokenisation is the process of separating the text as word wise, sentence wise, phrase wise or paragraph wise."
   ]
  },
  {
   "cell_type": "code",
   "execution_count": 118,
   "id": "3b0a390f",
   "metadata": {},
   "outputs": [],
   "source": [
    "string = \"Hey, how are you? Hope all is good. Yesterday match was horrible! They chased any how. Let's see what can we do @India.@\""
   ]
  },
  {
   "cell_type": "code",
   "execution_count": 119,
   "id": "a76a3999",
   "metadata": {},
   "outputs": [
    {
     "data": {
      "text/plain": [
       "['Hey',\n",
       " '',\n",
       " 'how',\n",
       " 'are',\n",
       " 'you',\n",
       " '',\n",
       " 'Hope',\n",
       " 'all',\n",
       " 'is',\n",
       " 'good',\n",
       " '',\n",
       " 'Yesterday',\n",
       " 'match',\n",
       " 'was',\n",
       " 'horrible',\n",
       " '',\n",
       " 'They',\n",
       " 'chased',\n",
       " 'any',\n",
       " 'how',\n",
       " '',\n",
       " \"Let's\",\n",
       " 'see',\n",
       " 'what',\n",
       " 'can',\n",
       " 'we',\n",
       " 'do',\n",
       " '@India',\n",
       " '@']"
      ]
     },
     "execution_count": 119,
     "metadata": {},
     "output_type": "execute_result"
    }
   ],
   "source": [
    "re.split(pattern='[!,\".? ]',string=string)"
   ]
  },
  {
   "cell_type": "code",
   "execution_count": null,
   "id": "8192cfaf",
   "metadata": {},
   "outputs": [],
   "source": []
  },
  {
   "cell_type": "markdown",
   "id": "e0605d8d",
   "metadata": {},
   "source": [
    "We can use following methods to complete the Tokenisation."
   ]
  },
  {
   "cell_type": "markdown",
   "id": "7975279d",
   "metadata": {},
   "source": [
    "1) Split() method\n",
    "2) Regex method\n",
    "3) NLTK module word_tokenizer & sent_tokensizer\n",
    "4) Spacy module"
   ]
  },
  {
   "cell_type": "markdown",
   "id": "879786fc",
   "metadata": {},
   "source": [
    "### Stemming"
   ]
  },
  {
   "cell_type": "markdown",
   "id": "048e01e4",
   "metadata": {},
   "source": [
    "Stemming is the process of bringing each & every word to it's original root word. Stemming helps model understanding the data better way."
   ]
  },
  {
   "cell_type": "markdown",
   "id": "8e243065",
   "metadata": {},
   "source": [
    "### Lemmatization"
   ]
  },
  {
   "cell_type": "markdown",
   "id": "0dabe6fd",
   "metadata": {},
   "source": [
    "Lemmatization is the same technique as the Stemming. The difference in between stemming & lemmatization is that lemmatization brings the word to root word in the same language as the original one. But stemming does not care about the language. "
   ]
  },
  {
   "cell_type": "code",
   "execution_count": null,
   "id": "8569deb2",
   "metadata": {},
   "outputs": [],
   "source": []
  },
  {
   "cell_type": "code",
   "execution_count": null,
   "id": "18f1bb63",
   "metadata": {},
   "outputs": [],
   "source": []
  },
  {
   "cell_type": "code",
   "execution_count": null,
   "id": "9dabc336",
   "metadata": {},
   "outputs": [],
   "source": []
  },
  {
   "cell_type": "code",
   "execution_count": null,
   "id": "f923770d",
   "metadata": {},
   "outputs": [],
   "source": []
  },
  {
   "cell_type": "code",
   "execution_count": null,
   "id": "a46c7547",
   "metadata": {},
   "outputs": [],
   "source": []
  },
  {
   "cell_type": "code",
   "execution_count": 125,
   "id": "375263ab",
   "metadata": {},
   "outputs": [
    {
     "data": {
      "text/plain": [
       "28"
      ]
     },
     "execution_count": 125,
     "metadata": {},
     "output_type": "execute_result"
    }
   ],
   "source": [
    "import sys\n",
    "a = int(10)\n",
    "sys.getsizeof(a)"
   ]
  },
  {
   "cell_type": "code",
   "execution_count": 128,
   "id": "4b3b5169",
   "metadata": {},
   "outputs": [
    {
     "name": "stdout",
     "output_type": "stream",
     "text": [
      "536870911\n"
     ]
    }
   ],
   "source": [
    "sum1 = 0\n",
    "for i in range(0,29):\n",
    "    sum1 = sum1 + 2**i\n",
    "print(sum1)"
   ]
  },
  {
   "cell_type": "code",
   "execution_count": 137,
   "id": "3a8ec5a9",
   "metadata": {},
   "outputs": [
    {
     "data": {
      "text/plain": [
       "3"
      ]
     },
     "execution_count": 137,
     "metadata": {},
     "output_type": "execute_result"
    }
   ],
   "source": [
    "b = 5\n",
    "sys.getsizeof(b)\n",
    "b.bit_length()"
   ]
  },
  {
   "cell_type": "code",
   "execution_count": 139,
   "id": "4ca4b85f",
   "metadata": {},
   "outputs": [
    {
     "data": {
      "text/plain": [
       "0.30000000000000004"
      ]
     },
     "execution_count": 139,
     "metadata": {},
     "output_type": "execute_result"
    }
   ],
   "source": [
    "0.1 + 0.2"
   ]
  },
  {
   "cell_type": "code",
   "execution_count": 140,
   "id": "94c3f2ef",
   "metadata": {},
   "outputs": [
    {
     "data": {
      "text/plain": [
       "0.3"
      ]
     },
     "execution_count": 140,
     "metadata": {},
     "output_type": "execute_result"
    }
   ],
   "source": [
    "0.3"
   ]
  },
  {
   "cell_type": "code",
   "execution_count": 142,
   "id": "2769da4e",
   "metadata": {},
   "outputs": [
    {
     "data": {
      "text/plain": [
       "True"
      ]
     },
     "execution_count": 142,
     "metadata": {},
     "output_type": "execute_result"
    }
   ],
   "source": [
    "round(0.30000000000000004,1) == 0.3"
   ]
  },
  {
   "cell_type": "code",
   "execution_count": 147,
   "id": "ac82aa9d",
   "metadata": {},
   "outputs": [],
   "source": [
    "k = 2+ 3J"
   ]
  },
  {
   "cell_type": "code",
   "execution_count": 150,
   "id": "207d65c0",
   "metadata": {},
   "outputs": [
    {
     "data": {
      "text/plain": [
       "97"
      ]
     },
     "execution_count": 150,
     "metadata": {},
     "output_type": "execute_result"
    }
   ],
   "source": [
    "ord('a')"
   ]
  },
  {
   "cell_type": "code",
   "execution_count": 152,
   "id": "13280e3d",
   "metadata": {},
   "outputs": [
    {
     "data": {
      "text/plain": [
       "str"
      ]
     },
     "execution_count": 152,
     "metadata": {},
     "output_type": "execute_result"
    }
   ],
   "source": [
    "a = 'abuhuh'\n",
    "type(a)"
   ]
  },
  {
   "cell_type": "code",
   "execution_count": 153,
   "id": "29df5aee",
   "metadata": {},
   "outputs": [],
   "source": [
    "a,b,c = 1,2,3"
   ]
  },
  {
   "cell_type": "code",
   "execution_count": 155,
   "id": "696b1d1d",
   "metadata": {},
   "outputs": [],
   "source": [
    "a=b=c='yyy'"
   ]
  },
  {
   "cell_type": "code",
   "execution_count": 158,
   "id": "cdcfdf6b",
   "metadata": {},
   "outputs": [
    {
     "data": {
      "text/plain": [
       "'yyy'"
      ]
     },
     "execution_count": 158,
     "metadata": {},
     "output_type": "execute_result"
    }
   ],
   "source": [
    "c"
   ]
  },
  {
   "cell_type": "code",
   "execution_count": 160,
   "id": "95489b62",
   "metadata": {},
   "outputs": [
    {
     "data": {
      "text/plain": [
       "'3.11.4 (main, Jul  5 2023, 08:54:11) [Clang 14.0.6 ]'"
      ]
     },
     "execution_count": 160,
     "metadata": {},
     "output_type": "execute_result"
    }
   ],
   "source": [
    "sys.version"
   ]
  },
  {
   "cell_type": "code",
   "execution_count": 161,
   "id": "d1d9cfde",
   "metadata": {},
   "outputs": [],
   "source": [
    "d = {'a':190,'b':180}"
   ]
  },
  {
   "cell_type": "code",
   "execution_count": 172,
   "id": "f6ee6350",
   "metadata": {},
   "outputs": [],
   "source": [
    "d1 = dict.fromkeys(d,[100,200])"
   ]
  },
  {
   "cell_type": "code",
   "execution_count": 173,
   "id": "babf1a4e",
   "metadata": {},
   "outputs": [
    {
     "data": {
      "text/plain": [
       "{'a': [100, 200], 'b': [100, 200]}"
      ]
     },
     "execution_count": 173,
     "metadata": {},
     "output_type": "execute_result"
    }
   ],
   "source": [
    "d1"
   ]
  },
  {
   "cell_type": "code",
   "execution_count": 174,
   "id": "8af1e327",
   "metadata": {},
   "outputs": [
    {
     "data": {
      "text/html": [
       "<div>\n",
       "<style scoped>\n",
       "    .dataframe tbody tr th:only-of-type {\n",
       "        vertical-align: middle;\n",
       "    }\n",
       "\n",
       "    .dataframe tbody tr th {\n",
       "        vertical-align: top;\n",
       "    }\n",
       "\n",
       "    .dataframe thead th {\n",
       "        text-align: right;\n",
       "    }\n",
       "</style>\n",
       "<table border=\"1\" class=\"dataframe\">\n",
       "  <thead>\n",
       "    <tr style=\"text-align: right;\">\n",
       "      <th></th>\n",
       "      <th>a</th>\n",
       "      <th>b</th>\n",
       "    </tr>\n",
       "  </thead>\n",
       "  <tbody>\n",
       "    <tr>\n",
       "      <th>0</th>\n",
       "      <td>100</td>\n",
       "      <td>100</td>\n",
       "    </tr>\n",
       "    <tr>\n",
       "      <th>1</th>\n",
       "      <td>200</td>\n",
       "      <td>200</td>\n",
       "    </tr>\n",
       "  </tbody>\n",
       "</table>\n",
       "</div>"
      ],
      "text/plain": [
       "     a    b\n",
       "0  100  100\n",
       "1  200  200"
      ]
     },
     "execution_count": 174,
     "metadata": {},
     "output_type": "execute_result"
    }
   ],
   "source": [
    "pd.DataFrame(d1)"
   ]
  },
  {
   "cell_type": "code",
   "execution_count": 175,
   "id": "83888ada",
   "metadata": {},
   "outputs": [
    {
     "data": {
      "text/plain": [
       "dict_items([('a', [100, 200]), ('b', [100, 200])])"
      ]
     },
     "execution_count": 175,
     "metadata": {},
     "output_type": "execute_result"
    }
   ],
   "source": [
    "d1.items()"
   ]
  },
  {
   "cell_type": "code",
   "execution_count": 180,
   "id": "2bd12f6d",
   "metadata": {},
   "outputs": [
    {
     "name": "stdout",
     "output_type": "stream",
     "text": [
      "here1 4370982080\n",
      "here2 11111897584\n",
      "inside func 4370984960\n"
     ]
    }
   ],
   "source": [
    "a = 10\n",
    "print('here1',id(a))\n",
    "def fun():\n",
    "    a = 100\n",
    "    b = 20\n",
    "    print('inside func',id(a))\n",
    "\n",
    "a=10000\n",
    "print('here2',id(a))\n",
    "fun()"
   ]
  },
  {
   "cell_type": "code",
   "execution_count": 204,
   "id": "341dea76",
   "metadata": {},
   "outputs": [],
   "source": [
    "s = {1,2,3}\n",
    "s2 = {3,5,6}"
   ]
  },
  {
   "cell_type": "code",
   "execution_count": 207,
   "id": "57a70748",
   "metadata": {},
   "outputs": [
    {
     "data": {
      "text/plain": [
       "{3}"
      ]
     },
     "execution_count": 207,
     "metadata": {},
     "output_type": "execute_result"
    }
   ],
   "source": [
    "# s3 = s.intersection(s2)\n",
    "s2 = s&s2\n",
    "s3"
   ]
  },
  {
   "cell_type": "code",
   "execution_count": 206,
   "id": "35965d72",
   "metadata": {},
   "outputs": [
    {
     "data": {
      "text/plain": [
       "{3}"
      ]
     },
     "execution_count": 206,
     "metadata": {},
     "output_type": "execute_result"
    }
   ],
   "source": [
    "s3"
   ]
  },
  {
   "cell_type": "code",
   "execution_count": 192,
   "id": "852321f2",
   "metadata": {
    "scrolled": true
   },
   "outputs": [],
   "source": [
    "s.add(9)"
   ]
  },
  {
   "cell_type": "code",
   "execution_count": 194,
   "id": "356d9ea2",
   "metadata": {},
   "outputs": [],
   "source": [
    "s.remove(9)"
   ]
  },
  {
   "cell_type": "code",
   "execution_count": 210,
   "id": "b7d6b90a",
   "metadata": {},
   "outputs": [
    {
     "data": {
      "text/plain": [
       "83"
      ]
     },
     "execution_count": 210,
     "metadata": {},
     "output_type": "execute_result"
    }
   ],
   "source": [
    "ord('S')"
   ]
  },
  {
   "cell_type": "code",
   "execution_count": 214,
   "id": "2cb4a024",
   "metadata": {},
   "outputs": [],
   "source": [
    "l = [1,2,34,5]"
   ]
  },
  {
   "cell_type": "code",
   "execution_count": 215,
   "id": "0bd043e0",
   "metadata": {},
   "outputs": [
    {
     "data": {
      "text/plain": [
       "34"
      ]
     },
     "execution_count": 215,
     "metadata": {},
     "output_type": "execute_result"
    }
   ],
   "source": [
    "l.pop(2)"
   ]
  },
  {
   "cell_type": "code",
   "execution_count": 221,
   "id": "f31f5cb5",
   "metadata": {},
   "outputs": [],
   "source": [
    "l.insert(0,5563)"
   ]
  },
  {
   "cell_type": "code",
   "execution_count": 222,
   "id": "99fd10b8",
   "metadata": {},
   "outputs": [
    {
     "data": {
      "text/plain": [
       "[5563, 1, 2, 5, 7, 3]"
      ]
     },
     "execution_count": 222,
     "metadata": {},
     "output_type": "execute_result"
    }
   ],
   "source": [
    "l"
   ]
  },
  {
   "cell_type": "code",
   "execution_count": null,
   "id": "4ceff358",
   "metadata": {},
   "outputs": [],
   "source": []
  },
  {
   "cell_type": "code",
   "execution_count": 249,
   "id": "5f285224",
   "metadata": {},
   "outputs": [
    {
     "name": "stdout",
     "output_type": "stream",
     "text": [
      "2\n"
     ]
    }
   ],
   "source": [
    "print('{0:0.0f}'.format(7.0/3))"
   ]
  },
  {
   "cell_type": "code",
   "execution_count": 225,
   "id": "ae8eb6d2",
   "metadata": {},
   "outputs": [
    {
     "data": {
      "text/plain": [
       "2.3333333333333335"
      ]
     },
     "execution_count": 225,
     "metadata": {},
     "output_type": "execute_result"
    }
   ],
   "source": [
    "7.0/3"
   ]
  },
  {
   "cell_type": "code",
   "execution_count": 252,
   "id": "ea58feff",
   "metadata": {},
   "outputs": [
    {
     "name": "stdout",
     "output_type": "stream",
     "text": [
      "a b\n"
     ]
    }
   ],
   "source": [
    "print('a','b')"
   ]
  },
  {
   "cell_type": "code",
   "execution_count": 232,
   "id": "c0f93616",
   "metadata": {},
   "outputs": [
    {
     "name": "stdout",
     "output_type": "stream",
     "text": [
      "For only 49.0000 dollars!\n"
     ]
    }
   ],
   "source": [
    "txt = \"For only {price:0.4f} dollars!\"\n",
    "print(txt.format(price = 49))"
   ]
  },
  {
   "cell_type": "code",
   "execution_count": 255,
   "id": "70821189",
   "metadata": {},
   "outputs": [
    {
     "data": {
      "text/plain": [
       "'a b zxc'"
      ]
     },
     "execution_count": 255,
     "metadata": {},
     "output_type": "execute_result"
    }
   ],
   "source": [
    "l = ['a','b','zxc']\n",
    "' '.join(l)"
   ]
  },
  {
   "cell_type": "code",
   "execution_count": 257,
   "id": "da04c3ec",
   "metadata": {},
   "outputs": [
    {
     "name": "stdout",
     "output_type": "stream",
     "text": [
      "abcdef\n"
     ]
    }
   ],
   "source": [
    "s1 = 'abc'\n",
    "s2 = 'def'\n",
    "\n",
    "print(\"%s%s\" %(s1,s2))"
   ]
  },
  {
   "cell_type": "code",
   "execution_count": 264,
   "id": "be66b77e",
   "metadata": {},
   "outputs": [],
   "source": [
    "s = s1[0:2]+'z'"
   ]
  },
  {
   "cell_type": "code",
   "execution_count": 268,
   "id": "0fafa68b",
   "metadata": {},
   "outputs": [],
   "source": [
    "n = s.replace('z','k')"
   ]
  },
  {
   "cell_type": "code",
   "execution_count": 272,
   "id": "d2dcd284",
   "metadata": {},
   "outputs": [
    {
     "data": {
      "text/plain": [
       "'!ahrB'"
      ]
     },
     "execution_count": 272,
     "metadata": {},
     "output_type": "execute_result"
    }
   ],
   "source": [
    "a  = 'Happy Birthday!'\n",
    "a[-1:-10:-2]"
   ]
  },
  {
   "cell_type": "code",
   "execution_count": 274,
   "id": "d6c24f38",
   "metadata": {},
   "outputs": [
    {
     "data": {
      "text/plain": [
       "int"
      ]
     },
     "execution_count": 274,
     "metadata": {},
     "output_type": "execute_result"
    }
   ],
   "source": [
    "type(id(a))"
   ]
  },
  {
   "cell_type": "code",
   "execution_count": 275,
   "id": "06aab199",
   "metadata": {},
   "outputs": [],
   "source": [
    "v = l.pop()"
   ]
  },
  {
   "cell_type": "code",
   "execution_count": 276,
   "id": "ea346ac0",
   "metadata": {},
   "outputs": [
    {
     "data": {
      "text/plain": [
       "'zxc'"
      ]
     },
     "execution_count": 276,
     "metadata": {},
     "output_type": "execute_result"
    }
   ],
   "source": [
    "v"
   ]
  },
  {
   "cell_type": "code",
   "execution_count": 277,
   "id": "864b1d94",
   "metadata": {},
   "outputs": [
    {
     "data": {
      "text/plain": [
       "['a', 'b']"
      ]
     },
     "execution_count": 277,
     "metadata": {},
     "output_type": "execute_result"
    }
   ],
   "source": [
    "l"
   ]
  }
 ],
 "metadata": {
  "kernelspec": {
   "display_name": "Python 3 (ipykernel)",
   "language": "python",
   "name": "python3"
  },
  "language_info": {
   "codemirror_mode": {
    "name": "ipython",
    "version": 3
   },
   "file_extension": ".py",
   "mimetype": "text/x-python",
   "name": "python",
   "nbconvert_exporter": "python",
   "pygments_lexer": "ipython3",
   "version": "3.11.4"
  }
 },
 "nbformat": 4,
 "nbformat_minor": 5
}
