{
 "cells": [
  {
   "cell_type": "code",
   "execution_count": 9,
   "id": "5d559513",
   "metadata": {},
   "outputs": [],
   "source": [
    "import numpy as np\n",
    "import pandas as pd\n",
    "import seaborn as sns\n",
    "import matplotlib.pyplot as plt\n",
    "import plotly.express as px"
   ]
  },
  {
   "cell_type": "code",
   "execution_count": 1,
   "id": "e549cdd7",
   "metadata": {},
   "outputs": [],
   "source": [
    "s = 'Movie review sentiment analysis'"
   ]
  },
  {
   "cell_type": "code",
   "execution_count": 3,
   "id": "eccdbde5",
   "metadata": {},
   "outputs": [],
   "source": [
    "s_lower = s.lower()"
   ]
  },
  {
   "cell_type": "code",
   "execution_count": 4,
   "id": "d1e833cf",
   "metadata": {},
   "outputs": [
    {
     "data": {
      "text/plain": [
       "'Movie review sentiment analysis'"
      ]
     },
     "execution_count": 4,
     "metadata": {},
     "output_type": "execute_result"
    }
   ],
   "source": [
    "s"
   ]
  },
  {
   "cell_type": "code",
   "execution_count": 5,
   "id": "50fe5fa2",
   "metadata": {},
   "outputs": [
    {
     "data": {
      "text/plain": [
       "'movie review sentiment analysis'"
      ]
     },
     "execution_count": 5,
     "metadata": {},
     "output_type": "execute_result"
    }
   ],
   "source": [
    "s_lower"
   ]
  },
  {
   "cell_type": "code",
   "execution_count": null,
   "id": "12c124f9",
   "metadata": {},
   "outputs": [],
   "source": []
  },
  {
   "cell_type": "code",
   "execution_count": 6,
   "id": "8e4cee34",
   "metadata": {},
   "outputs": [],
   "source": [
    "frames = {'review':['Very Good movie', 'DISGUSTING ever', 'Not the expected one','awesome'], 'sentiment':['positive','negative','negative','positive']}"
   ]
  },
  {
   "cell_type": "code",
   "execution_count": 11,
   "id": "6b43e4c7",
   "metadata": {},
   "outputs": [],
   "source": [
    "df = pd.DataFrame(frames)"
   ]
  },
  {
   "cell_type": "code",
   "execution_count": 12,
   "id": "95bada84",
   "metadata": {},
   "outputs": [
    {
     "data": {
      "text/html": [
       "<div>\n",
       "<style scoped>\n",
       "    .dataframe tbody tr th:only-of-type {\n",
       "        vertical-align: middle;\n",
       "    }\n",
       "\n",
       "    .dataframe tbody tr th {\n",
       "        vertical-align: top;\n",
       "    }\n",
       "\n",
       "    .dataframe thead th {\n",
       "        text-align: right;\n",
       "    }\n",
       "</style>\n",
       "<table border=\"1\" class=\"dataframe\">\n",
       "  <thead>\n",
       "    <tr style=\"text-align: right;\">\n",
       "      <th></th>\n",
       "      <th>review</th>\n",
       "      <th>sentiment</th>\n",
       "    </tr>\n",
       "  </thead>\n",
       "  <tbody>\n",
       "    <tr>\n",
       "      <th>0</th>\n",
       "      <td>Very Good movie</td>\n",
       "      <td>positive</td>\n",
       "    </tr>\n",
       "    <tr>\n",
       "      <th>1</th>\n",
       "      <td>DISGUSTING ever</td>\n",
       "      <td>negative</td>\n",
       "    </tr>\n",
       "    <tr>\n",
       "      <th>2</th>\n",
       "      <td>Not the expected one</td>\n",
       "      <td>negative</td>\n",
       "    </tr>\n",
       "    <tr>\n",
       "      <th>3</th>\n",
       "      <td>awesome</td>\n",
       "      <td>positive</td>\n",
       "    </tr>\n",
       "  </tbody>\n",
       "</table>\n",
       "</div>"
      ],
      "text/plain": [
       "                 review sentiment\n",
       "0       Very Good movie  positive\n",
       "1       DISGUSTING ever  negative\n",
       "2  Not the expected one  negative\n",
       "3               awesome  positive"
      ]
     },
     "execution_count": 12,
     "metadata": {},
     "output_type": "execute_result"
    }
   ],
   "source": [
    "df"
   ]
  },
  {
   "cell_type": "code",
   "execution_count": 15,
   "id": "77bfaee3",
   "metadata": {},
   "outputs": [
    {
     "data": {
      "text/plain": [
       "0         Very Good movie\n",
       "1         DISGUSTING ever\n",
       "2    Not the expected one\n",
       "3                 awesome\n",
       "Name: review, dtype: object"
      ]
     },
     "execution_count": 15,
     "metadata": {},
     "output_type": "execute_result"
    }
   ],
   "source": [
    "df.iloc[0:,0]"
   ]
  },
  {
   "cell_type": "code",
   "execution_count": 20,
   "id": "134d25b3",
   "metadata": {},
   "outputs": [
    {
     "data": {
      "text/plain": [
       "array(['Very Good movie', 'DISGUSTING ever', 'Not the expected one',\n",
       "       'awesome'], dtype=object)"
      ]
     },
     "execution_count": 20,
     "metadata": {},
     "output_type": "execute_result"
    }
   ],
   "source": [
    "df['review'].values"
   ]
  },
  {
   "cell_type": "code",
   "execution_count": 21,
   "id": "daf75f0d",
   "metadata": {},
   "outputs": [],
   "source": [
    "l = df['review'].values"
   ]
  },
  {
   "cell_type": "code",
   "execution_count": 22,
   "id": "0eea91da",
   "metadata": {},
   "outputs": [
    {
     "data": {
      "text/plain": [
       "array(['Very Good movie', 'DISGUSTING ever', 'Not the expected one',\n",
       "       'awesome'], dtype=object)"
      ]
     },
     "execution_count": 22,
     "metadata": {},
     "output_type": "execute_result"
    }
   ],
   "source": [
    "l"
   ]
  },
  {
   "cell_type": "code",
   "execution_count": 24,
   "id": "f1aee882",
   "metadata": {},
   "outputs": [],
   "source": [
    "# for i in l:\n",
    "#     print(l)"
   ]
  },
  {
   "cell_type": "code",
   "execution_count": 25,
   "id": "9f517e9a",
   "metadata": {},
   "outputs": [
    {
     "data": {
      "text/plain": [
       "numpy.ndarray"
      ]
     },
     "execution_count": 25,
     "metadata": {},
     "output_type": "execute_result"
    }
   ],
   "source": [
    "type(l)"
   ]
  },
  {
   "cell_type": "code",
   "execution_count": 26,
   "id": "e85f746a",
   "metadata": {},
   "outputs": [],
   "source": [
    "l = list(l)"
   ]
  },
  {
   "cell_type": "code",
   "execution_count": 28,
   "id": "3635d14f",
   "metadata": {},
   "outputs": [],
   "source": [
    "result = []"
   ]
  },
  {
   "cell_type": "code",
   "execution_count": 29,
   "id": "012276d6",
   "metadata": {},
   "outputs": [
    {
     "name": "stdout",
     "output_type": "stream",
     "text": [
      "Very Good movie\n",
      "DISGUSTING ever\n",
      "Not the expected one\n",
      "awesome\n"
     ]
    }
   ],
   "source": [
    "for i in l:\n",
    "    print(i)\n",
    "    result.append(i.lower())"
   ]
  },
  {
   "cell_type": "code",
   "execution_count": 30,
   "id": "db7ba199",
   "metadata": {},
   "outputs": [
    {
     "data": {
      "text/plain": [
       "['very good movie', 'disgusting ever', 'not the expected one', 'awesome']"
      ]
     },
     "execution_count": 30,
     "metadata": {},
     "output_type": "execute_result"
    }
   ],
   "source": [
    "result"
   ]
  },
  {
   "cell_type": "code",
   "execution_count": 31,
   "id": "f9e2aa98",
   "metadata": {},
   "outputs": [],
   "source": [
    "df['lower_review'] = result"
   ]
  },
  {
   "cell_type": "code",
   "execution_count": 33,
   "id": "116f3da5",
   "metadata": {},
   "outputs": [
    {
     "data": {
      "text/html": [
       "<div>\n",
       "<style scoped>\n",
       "    .dataframe tbody tr th:only-of-type {\n",
       "        vertical-align: middle;\n",
       "    }\n",
       "\n",
       "    .dataframe tbody tr th {\n",
       "        vertical-align: top;\n",
       "    }\n",
       "\n",
       "    .dataframe thead th {\n",
       "        text-align: right;\n",
       "    }\n",
       "</style>\n",
       "<table border=\"1\" class=\"dataframe\">\n",
       "  <thead>\n",
       "    <tr style=\"text-align: right;\">\n",
       "      <th></th>\n",
       "      <th>review</th>\n",
       "      <th>sentiment</th>\n",
       "      <th>lower_review</th>\n",
       "    </tr>\n",
       "  </thead>\n",
       "  <tbody>\n",
       "    <tr>\n",
       "      <th>0</th>\n",
       "      <td>Very Good movie</td>\n",
       "      <td>positive</td>\n",
       "      <td>very good movie</td>\n",
       "    </tr>\n",
       "    <tr>\n",
       "      <th>1</th>\n",
       "      <td>DISGUSTING ever</td>\n",
       "      <td>negative</td>\n",
       "      <td>disgusting ever</td>\n",
       "    </tr>\n",
       "    <tr>\n",
       "      <th>2</th>\n",
       "      <td>Not the expected one</td>\n",
       "      <td>negative</td>\n",
       "      <td>not the expected one</td>\n",
       "    </tr>\n",
       "    <tr>\n",
       "      <th>3</th>\n",
       "      <td>awesome</td>\n",
       "      <td>positive</td>\n",
       "      <td>awesome</td>\n",
       "    </tr>\n",
       "  </tbody>\n",
       "</table>\n",
       "</div>"
      ],
      "text/plain": [
       "                 review sentiment          lower_review\n",
       "0       Very Good movie  positive       very good movie\n",
       "1       DISGUSTING ever  negative       disgusting ever\n",
       "2  Not the expected one  negative  not the expected one\n",
       "3               awesome  positive               awesome"
      ]
     },
     "execution_count": 33,
     "metadata": {},
     "output_type": "execute_result"
    }
   ],
   "source": [
    "df"
   ]
  },
  {
   "cell_type": "code",
   "execution_count": 37,
   "id": "e7005863",
   "metadata": {},
   "outputs": [],
   "source": [
    "# str(df['review']).lower()"
   ]
  },
  {
   "cell_type": "code",
   "execution_count": 38,
   "id": "923abd88",
   "metadata": {},
   "outputs": [
    {
     "data": {
      "text/plain": [
       "0         very good movie\n",
       "1         disgusting ever\n",
       "2    not the expected one\n",
       "3                 awesome\n",
       "Name: review, dtype: object"
      ]
     },
     "execution_count": 38,
     "metadata": {},
     "output_type": "execute_result"
    }
   ],
   "source": [
    "df['review'].str.lower()"
   ]
  },
  {
   "cell_type": "code",
   "execution_count": 40,
   "id": "69fc6bdd",
   "metadata": {},
   "outputs": [
    {
     "data": {
      "text/plain": [
       "pandas.core.series.Series"
      ]
     },
     "execution_count": 40,
     "metadata": {},
     "output_type": "execute_result"
    }
   ],
   "source": [
    "type(df['review'].str.lower())"
   ]
  },
  {
   "cell_type": "code",
   "execution_count": 41,
   "id": "5e5238f0",
   "metadata": {},
   "outputs": [],
   "source": [
    "df['lower_review'] = df['review'].str.lower()"
   ]
  },
  {
   "cell_type": "code",
   "execution_count": 42,
   "id": "a0d59208",
   "metadata": {},
   "outputs": [
    {
     "data": {
      "text/html": [
       "<div>\n",
       "<style scoped>\n",
       "    .dataframe tbody tr th:only-of-type {\n",
       "        vertical-align: middle;\n",
       "    }\n",
       "\n",
       "    .dataframe tbody tr th {\n",
       "        vertical-align: top;\n",
       "    }\n",
       "\n",
       "    .dataframe thead th {\n",
       "        text-align: right;\n",
       "    }\n",
       "</style>\n",
       "<table border=\"1\" class=\"dataframe\">\n",
       "  <thead>\n",
       "    <tr style=\"text-align: right;\">\n",
       "      <th></th>\n",
       "      <th>review</th>\n",
       "      <th>sentiment</th>\n",
       "      <th>lower_review</th>\n",
       "    </tr>\n",
       "  </thead>\n",
       "  <tbody>\n",
       "    <tr>\n",
       "      <th>0</th>\n",
       "      <td>Very Good movie</td>\n",
       "      <td>positive</td>\n",
       "      <td>very good movie</td>\n",
       "    </tr>\n",
       "    <tr>\n",
       "      <th>1</th>\n",
       "      <td>DISGUSTING ever</td>\n",
       "      <td>negative</td>\n",
       "      <td>disgusting ever</td>\n",
       "    </tr>\n",
       "    <tr>\n",
       "      <th>2</th>\n",
       "      <td>Not the expected one</td>\n",
       "      <td>negative</td>\n",
       "      <td>not the expected one</td>\n",
       "    </tr>\n",
       "    <tr>\n",
       "      <th>3</th>\n",
       "      <td>awesome</td>\n",
       "      <td>positive</td>\n",
       "      <td>awesome</td>\n",
       "    </tr>\n",
       "  </tbody>\n",
       "</table>\n",
       "</div>"
      ],
      "text/plain": [
       "                 review sentiment          lower_review\n",
       "0       Very Good movie  positive       very good movie\n",
       "1       DISGUSTING ever  negative       disgusting ever\n",
       "2  Not the expected one  negative  not the expected one\n",
       "3               awesome  positive               awesome"
      ]
     },
     "execution_count": 42,
     "metadata": {},
     "output_type": "execute_result"
    }
   ],
   "source": [
    "df "
   ]
  }
 ],
 "metadata": {
  "kernelspec": {
   "display_name": "Python 3 (ipykernel)",
   "language": "python",
   "name": "python3"
  },
  "language_info": {
   "codemirror_mode": {
    "name": "ipython",
    "version": 3
   },
   "file_extension": ".py",
   "mimetype": "text/x-python",
   "name": "python",
   "nbconvert_exporter": "python",
   "pygments_lexer": "ipython3",
   "version": "3.11.4"
  }
 },
 "nbformat": 4,
 "nbformat_minor": 5
}
